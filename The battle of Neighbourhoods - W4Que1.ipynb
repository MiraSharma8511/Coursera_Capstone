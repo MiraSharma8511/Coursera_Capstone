{
 "cells": [
  {
   "cell_type": "markdown",
   "metadata": {},
   "source": [
    "# Capstone Project - The Battle of Neighbourhoods"
   ]
  },
  {
   "cell_type": "markdown",
   "metadata": {},
   "source": [
    "# INTRODUCTION"
   ]
  },
  {
   "cell_type": "markdown",
   "metadata": {},
   "source": [
    "### *BACKGROUND*"
   ]
  },
  {
   "cell_type": "markdown",
   "metadata": {},
   "source": [
    "These days IT Services are much in demand, more and more new start up companies arises.  Most of the IT Service Companies in the Asia targets USA as Development Cost of Asian Companies are less than the US. Moreover, USA Business Persons are interested in getting IT Service done remotely at cheaper rates but as there are might Point of Contacts or Office in USA for support, sometimes they avoid dealing with which is ultimately loss to the Sales of IT Service. To increase their sales by having a new marketing office in USA we need to select the best place for their office where more people are expose to the office and marketing team can get the potential targeted audience. "
   ]
  },
  {
   "cell_type": "markdown",
   "metadata": {},
   "source": [
    "### *PROBLEM*"
   ]
  },
  {
   "cell_type": "markdown",
   "metadata": {},
   "source": [
    "As we are looking for a perfect potential location in the USA, we need to know the areas where people spend more and where they spend more, so that, the people can marketing office and marketing team can contact them for the lead generation and can have a good sales conversion.\n",
    "\n",
    "So, to increase the ultimate lead generation and sales it is required to analyze the best place to start a Marketing Office."
   ]
  },
  {
   "cell_type": "markdown",
   "metadata": {},
   "source": [
    "### *INTEREST*"
   ]
  },
  {
   "cell_type": "markdown",
   "metadata": {},
   "source": [
    "The CEO of IT Company is interested in starting a new marketing office in the best locality of all the cities in United states. According to him, following constraints defines a best locatlity, \n",
    "\n",
    "* Population density of a locality \n",
    "* Per Capital income\n",
    "* Population of each location\n",
    "* Venues in each locality \n",
    "\n",
    "The category of the venues that he's interested in are, \n",
    "\n",
    "* Arts and Entertainment \n",
    "* Shops & Service\n",
    "* College and University\n",
    "* Event\n",
    "* Food\n",
    "* Nightife Spot\n",
    "* Outdoors & Recreation\n",
    "* Professional & Other places\n",
    "* Residence\n",
    "* Travel & Transport\n",
    "* Medical"
   ]
  }
 ],
 "metadata": {
  "kernelspec": {
   "display_name": "Python",
   "language": "python",
   "name": "conda-env-python-py"
  },
  "language_info": {
   "codemirror_mode": {
    "name": "ipython",
    "version": 3
   },
   "file_extension": ".py",
   "mimetype": "text/x-python",
   "name": "python",
   "nbconvert_exporter": "python",
   "pygments_lexer": "ipython3",
   "version": "3.6.7"
  }
 },
 "nbformat": 4,
 "nbformat_minor": 4
}
